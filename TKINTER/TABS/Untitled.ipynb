{
 "cells": [
  {
   "cell_type": "code",
   "execution_count": 15,
   "id": "f6286789-1eb5-44c0-beed-ca410625f4a3",
   "metadata": {},
   "outputs": [
    {
     "name": "stdout",
     "output_type": "stream",
     "text": [
      "Overwriting tabs.py\n"
     ]
    }
   ],
   "source": [
    "%%writefile tabs.py\n",
    "\n",
    "import tkinter as tk\n",
    "from tkinter import ttk\n",
    "import lorem\n",
    "\n",
    "root = tk.Tk()\n",
    "root.geometry(\"400x600\")\n",
    "root.iconbitmap(\"python_icon.ico\")\n",
    "root.title(\"Tabs GUI app\")\n",
    "root.config(bg=\"lightblue\")\n",
    "\n",
    "# text tab\n",
    "# tab_control -> text_tab -> text_frame  ->  text_box\n",
    "tab_control =  ttk.Notebook(root)\n",
    "text_tab = ttk.Frame(tab_control)\n",
    "tab_control.add(text_tab, text = \"Text\")\n",
    "\n",
    "# text box\n",
    "text_frame = tk.Frame(text_tab)\n",
    "text_frame.pack(pady=30, padx=10)\n",
    "\n",
    "text_box = tk.Text(text_frame, height=20, width =30)\n",
    "text_box.pack()\n",
    "\n",
    "# submit button\n",
    "submit_btn = tk.Button(text_frame, text=\"Submit\", height=2, width = 10)\n",
    "submit_btn.config(bg=\"green\", fg=\"white\", font=(\"Arial\", 10))\n",
    "submit_btn.pack(pady=10)\n",
    "                  \n",
    "# second tab\n",
    "second_tab = ttk.Frame(tab_control)\n",
    "tab_control.add(second_tab, text=\"Second\")\n",
    "\n",
    "# labels with lorem (sentence, paragraph, text)\n",
    "label = tk.Label(second_tab, text=lorem.text(), wraplength=300)\n",
    "label.config(bg=\"pink\", padx=10, pady=50)\n",
    "label.pack(pady=5, padx=5)\n",
    "\n",
    "\n",
    "# third tab\n",
    "third_tab = ttk.Frame(tab_control)\n",
    "tab_control.add(third_tab, text=\"Third\")\n",
    "\n",
    "tab_control.pack(fill = tk.BOTH, expand = True,\n",
    "                pady = 50, padx = 10)\n",
    "\n",
    "\n",
    "\n",
    "\n",
    "root.mainloop()\n",
    "\n"
   ]
  },
  {
   "cell_type": "code",
   "execution_count": null,
   "id": "b5d8e84e-b936-40bf-8f76-f1e976e2974d",
   "metadata": {},
   "outputs": [],
   "source": []
  },
  {
   "cell_type": "raw",
   "id": "fcea8fab-56e6-4dd4-af2c-ab36fc4c289e",
   "metadata": {},
   "source": []
  },
  {
   "cell_type": "code",
   "execution_count": null,
   "id": "bd19403a-7a4d-4395-b559-2914fc66fcef",
   "metadata": {},
   "outputs": [],
   "source": []
  },
  {
   "cell_type": "code",
   "execution_count": null,
   "id": "fa48df14-a1c0-460a-82e8-11f04f67e2f1",
   "metadata": {},
   "outputs": [],
   "source": []
  }
 ],
 "metadata": {
  "kernelspec": {
   "display_name": "Python 3 (ipykernel)",
   "language": "python",
   "name": "python3"
  },
  "language_info": {
   "codemirror_mode": {
    "name": "ipython",
    "version": 3
   },
   "file_extension": ".py",
   "mimetype": "text/x-python",
   "name": "python",
   "nbconvert_exporter": "python",
   "pygments_lexer": "ipython3",
   "version": "3.11.5"
  }
 },
 "nbformat": 4,
 "nbformat_minor": 5
}
